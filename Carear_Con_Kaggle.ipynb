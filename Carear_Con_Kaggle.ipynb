{
  "nbformat": 4,
  "nbformat_minor": 0,
  "metadata": {
    "colab": {
      "name": "Carear_Con_Kaggle.ipynb",
      "version": "0.3.2",
      "provenance": [],
      "collapsed_sections": [],
      "include_colab_link": true
    },
    "kernelspec": {
      "name": "python3",
      "display_name": "Python 3"
    },
    "accelerator": "GPU"
  },
  "cells": [
    {
      "cell_type": "markdown",
      "metadata": {
        "id": "view-in-github",
        "colab_type": "text"
      },
      "source": [
        "<a href=\"https://colab.research.google.com/github/GioLomia/Robot_Surface_Classifier/blob/master/Carear_Con_Kaggle.ipynb\" target=\"_parent\"><img src=\"https://colab.research.google.com/assets/colab-badge.svg\" alt=\"Open In Colab\"/></a>"
      ]
    },
    {
      "metadata": {
        "id": "i0qq71GpWA9f",
        "colab_type": "code",
        "outputId": "92525359-f8df-4334-8145-f0b93736f176",
        "colab": {
          "base_uri": "https://localhost:8080/",
          "height": 34
        }
      },
      "cell_type": "code",
      "source": [
        "import numpy as np # linear algebra\n",
        "import pandas as pd # data processing, CSV file I/O (e.g. pd.read_csv)\n",
        "import lightgbm as lgb\n",
        "from sklearn.metrics import mean_squared_error\n",
        "from sklearn.metrics import roc_auc_score\n",
        "from sklearn.model_selection import StratifiedKFold\n",
        "from google.colab import files\n",
        "import pandas as pd\n",
        "\n",
        "import keras\n",
        "\n",
        "# Input data files are available in the \"../input/\" directory.\n",
        "# For example, running this (by clicking run or pressing Shift+Enter) will list the files in the input directory\n",
        "\n",
        "import os\n",
        "import warnings\n",
        "warnings.filterwarnings('ignore')"
      ],
      "execution_count": 0,
      "outputs": [
        {
          "output_type": "stream",
          "text": [
            "Using TensorFlow backend.\n"
          ],
          "name": "stderr"
        }
      ]
    },
    {
      "metadata": {
        "id": "6GnizTs7KHfG",
        "colab_type": "code",
        "outputId": "53cc7705-8d6b-41a0-a8cc-1a43e639cc7d",
        "colab": {
          "base_uri": "https://localhost:8080/",
          "height": 34
        }
      },
      "cell_type": "code",
      "source": [
        "from googleapiclient.discovery import build\n",
        "import io, os\n",
        "from googleapiclient.http import MediaIoBaseDownload\n",
        "from google.colab import auth\n",
        "auth.authenticate_user()\n",
        "drive_service = build('drive', 'v3')\n",
        "results = drive_service.files().list(\n",
        "        q=\"name = 'kaggle.json'\", fields=\"files(id)\").execute()\n",
        "kaggle_api_key = results.get('files', [])\n",
        "filename = \"/content/.kaggle/kaggle.json\"\n",
        "os.makedirs(os.path.dirname(filename), exist_ok=True)\n",
        "request = drive_service.files().get_media(fileId=kaggle_api_key[0]['id'])\n",
        "fh = io.FileIO(filename, 'wb')\n",
        "downloader = MediaIoBaseDownload(fh, request)\n",
        "done = False\n",
        "while done is False:\n",
        "    status, done = downloader.next_chunk()\n",
        "    print(\"Download %d%%.\" % int(status.progress() * 100))\n",
        "os.chmod(filename, 600)"
      ],
      "execution_count": 0,
      "outputs": [
        {
          "output_type": "stream",
          "text": [
            "Download 100%.\n"
          ],
          "name": "stdout"
        }
      ]
    },
    {
      "metadata": {
        "id": "3KEk9xoILCg7",
        "colab_type": "code",
        "outputId": "3d40e5c1-92b4-44dd-a637-8792db96d04d",
        "colab": {
          "base_uri": "https://localhost:8080/",
          "height": 408
        }
      },
      "cell_type": "code",
      "source": [
        "!mkdir ~/.kaggle\n",
        "!cp /content/.kaggle/kaggle.json ~/.kaggle/kaggle.json\n",
        "!ls\n",
        "!kaggle competitions list"
      ],
      "execution_count": 0,
      "outputs": [
        {
          "output_type": "stream",
          "text": [
            "adc.json  sample_data\n",
            "ref                                                deadline             category            reward  teamCount  userHasEntered  \n",
            "-------------------------------------------------  -------------------  ---------------  ---------  ---------  --------------  \n",
            "digit-recognizer                                   2030-01-01 00:00:00  Getting Started  Knowledge       2635            True  \n",
            "titanic                                            2030-01-01 00:00:00  Getting Started  Knowledge      10865           False  \n",
            "house-prices-advanced-regression-techniques        2030-01-01 00:00:00  Getting Started  Knowledge       4391           False  \n",
            "imagenet-object-localization-challenge             2029-12-31 07:00:00  Research         Knowledge         34           False  \n",
            "competitive-data-science-predict-future-sales      2019-12-31 23:59:00  Playground           Kudos       2660           False  \n",
            "two-sigma-financial-news                           2019-07-15 23:59:00  Featured          $100,000       2927           False  \n",
            "aerial-cactus-identification                       2019-07-08 23:59:00  Playground       Knowledge        242           False  \n",
            "jigsaw-unintended-bias-in-toxicity-classification  2019-06-26 23:59:00  Featured           $65,000        318            True  \n",
            "inaturalist-2019-fgvc6                             2019-06-10 23:59:00  Research             Kudos         17           False  \n",
            "freesound-audio-tagging-2019                       2019-06-10 11:59:00  Research            $5,000          0           False  \n",
            "iwildcam-2019-fgvc6                                2019-06-07 23:59:00  Playground           Kudos         47           False  \n",
            "imet-2019-fgvc6                                    2019-06-04 23:59:00  Research             Kudos        123           False  \n",
            "LANL-Earthquake-Prediction                         2019-06-03 23:59:00  Research           $50,000       2279            True  \n",
            "tmdb-box-office-prediction                         2019-05-30 23:59:00  Playground       Knowledge        591           False  \n",
            "dont-overfit-ii                                    2019-05-07 23:59:00  Playground            Swag       1445           False  \n",
            "ciphertext-challenge-ii                            2019-04-25 23:59:00  Playground            Swag         26           False  \n",
            "data-science-for-good-careervillage                2019-04-23 23:59:00  Analytics          $15,000          0            True  \n",
            "gendered-pronoun-resolution                        2019-04-22 23:59:00  Research           $25,000        620           False  \n",
            "petfinder-adoption-prediction                      2019-04-18 23:59:00  Featured           $25,000       2010            True  \n",
            "career-con-2019                                    2019-04-11 23:59:00  Recruitment           Swag       1266            True  \n"
          ],
          "name": "stdout"
        }
      ]
    },
    {
      "metadata": {
        "id": "b-ji720NQ28U",
        "colab_type": "code",
        "outputId": "32b1b923-40b1-4c61-fca3-3e016f9f9b99",
        "colab": {
          "base_uri": "https://localhost:8080/",
          "height": 476
        }
      },
      "cell_type": "code",
      "source": [
        "!kaggle competitions files -c career-con-2019\n",
        "!ls\n",
        "!kaggle competitions download  -c career-con-2019 -p /content/kaggle\n",
        "!mkdir root\n",
        "%cd kaggle\n",
        "!ls\n",
        "!unzip /content/kaggle/X_train.csv.zip\n",
        "!unzip /content/kaggle/X_test.csv.zip\n",
        "!ls"
      ],
      "execution_count": 0,
      "outputs": [
        {
          "output_type": "stream",
          "text": [
            "name                   size  creationDate         \n",
            "---------------------  ----  -------------------  \n",
            "X_train.csv            47MB  2019-03-14 02:38:48  \n",
            "y_train.csv            64KB  2019-03-14 02:38:22  \n",
            "sample_submission.csv  51KB  2019-03-14 02:38:22  \n",
            "X_test.csv             47MB  2019-03-14 02:38:48  \n",
            "adc.json  sample_data\n",
            "Downloading X_train.csv.zip to /content/kaggle\n",
            " 64% 11.0M/17.1M [00:00<00:00, 54.5MB/s]\n",
            "100% 17.1M/17.1M [00:00<00:00, 66.2MB/s]\n",
            "Downloading y_train.csv to /content/kaggle\n",
            "  0% 0.00/64.1k [00:00<?, ?B/s]\n",
            "100% 64.1k/64.1k [00:00<00:00, 49.8MB/s]\n",
            "Downloading sample_submission.csv to /content/kaggle\n",
            "  0% 0.00/51.1k [00:00<?, ?B/s]\n",
            "100% 51.1k/51.1k [00:00<00:00, 30.1MB/s]\n",
            "Downloading X_test.csv.zip to /content/kaggle\n",
            " 29% 5.00M/17.2M [00:00<00:00, 28.7MB/s]\n",
            "100% 17.2M/17.2M [00:00<00:00, 66.3MB/s]\n",
            "/content/kaggle\n",
            "sample_submission.csv  X_test.csv.zip  X_train.csv.zip\ty_train.csv\n",
            "Archive:  /content/kaggle/X_train.csv.zip\n",
            "  inflating: X_train.csv             \n",
            "Archive:  /content/kaggle/X_test.csv.zip\n",
            "  inflating: X_test.csv              \n",
            "sample_submission.csv  X_test.csv.zip  X_train.csv.zip\n",
            "X_test.csv\t       X_train.csv     y_train.csv\n"
          ],
          "name": "stdout"
        }
      ]
    },
    {
      "metadata": {
        "id": "rU3vBxggfdh6",
        "colab_type": "code",
        "colab": {}
      },
      "cell_type": "code",
      "source": [
        "df=pd.read_csv(\"/content/kaggle/X_train.csv\")\n",
        "y_train=pd.read_csv(\"/content/kaggle/y_train.csv\")\n",
        "df_test=pd.read_csv(\"/content/kaggle/X_test.csv\")"
      ],
      "execution_count": 0,
      "outputs": []
    },
    {
      "metadata": {
        "id": "PfOGkWfJ0QJ_",
        "colab_type": "code",
        "colab": {}
      },
      "cell_type": "code",
      "source": [
        "df.iloc[:,4]+df.iloc[:,2:]"
      ],
      "execution_count": 0,
      "outputs": []
    },
    {
      "metadata": {
        "id": "HIL014690Enr",
        "colab_type": "code",
        "colab": {}
      },
      "cell_type": "code",
      "source": [
        "y_train"
      ],
      "execution_count": 0,
      "outputs": []
    },
    {
      "metadata": {
        "id": "HbSKWyv0pOVX",
        "colab_type": "code",
        "colab": {}
      },
      "cell_type": "code",
      "source": [
        "#####################FEATURE CREATION#####################\n",
        "#Coordinate Features\n",
        "df[\"X_Y_disp\"]=df.orientation_X - df.orientation_Y\n",
        "df[\"X_Z_disp\"]=df.orientation_X - df.orientation_Z\n",
        "df[\"X_W_disp\"]=df.orientation_X - df.orientation_W\n",
        "df[\"Y_Z_disp\"]=df.orientation_Y - df.orientation_Z\n",
        "df[\"Y_W_disp\"]=df.orientation_Y - df.orientation_W\n",
        "df[\"Z_W_disp\"]=df.orientation_Z - df.orientation_W\n",
        "\n",
        "df[\"X_Y_dist\"]=((df.orientation_X - df.orientation_Y)**2)**0.5\n",
        "df[\"X_Z_dist\"]=((df.orientation_X - df.orientation_Z)**2)**0.5\n",
        "df[\"X_W_dist\"]=((df.orientation_X - df.orientation_W)**2)**0.5\n",
        "df[\"Y_Z_dist\"]=((df.orientation_Y - df.orientation_Z)**2)**0.5\n",
        "df[\"Y_W_dist\"]=((df.orientation_Y - df.orientation_W)**2)**0.5\n",
        "df[\"Z_W_dist\"]=((df.orientation_Z - df.orientation_W)**2)**0.5\n",
        "\n",
        "#Velocity Features\n",
        "df[\"abs_ang_vel\"]=((df.angular_velocity_X**2)**0.5 + (df.angular_velocity_Y**2)**0.5 + (df.angular_velocity_Z**2)**0.5)\n",
        "df[\"abs_ang_vel_dif\"]=((df.angular_velocity_X - df.angular_velocity_Y - df.angular_velocity_Z)**2)**0.5\n",
        "df[\"total_ang_vel_sum\"]=df.angular_velocity_X + df.angular_velocity_Y + df.angular_velocity_Z\n",
        "df[\"total_ang_vel_dif\"]=df.angular_velocity_X - df.angular_velocity_Y - df.angular_velocity_Z\n",
        "\n",
        "df[\"X_Y_ang_vel\"]=df.angular_velocity_X - df.angular_velocity_Y\n",
        "df[\"X_Z_ang_vel\"]=df.angular_velocity_X - df.angular_velocity_Z\n",
        "df[\"Y_Z_ang_vel\"]=df.angular_velocity_Y - df.angular_velocity_Z\n",
        "\n",
        "df[\"X_Y_ang_vel_abs\"]=((df.angular_velocity_X - df.angular_velocity_Y)**2)**0.5\n",
        "df[\"X_Z_ang_vel_abs\"]=((df.angular_velocity_X - df.angular_velocity_Z)**2)**0.5\n",
        "df[\"Y_Z_ang_vel_abs\"]=((df.angular_velocity_Y - df.angular_velocity_Z)**2)**0.5\n",
        "\n",
        "#Linear Acceleration Features\n",
        "df[\"abs_lin_acc\"]=((df.linear_acceleration_X**2)**0.5 + (df.linear_acceleration_Y**2)**0.5 + (df.linear_acceleration_Z**2)**0.5)\n",
        "df[\"abs_lin_acc_dif\"]=((df.linear_acceleration_X - df.linear_acceleration_Y - df.linear_acceleration_Z)**2)**0.5\n",
        "df[\"total_lin_acc_sum\"]=df.linear_acceleration_X + df.linear_acceleration_Y + df.linear_acceleration_Z\n",
        "df[\"total_lin_acc_dif\"]=df.linear_acceleration_X - df.linear_acceleration_Y - df.linear_acceleration_Z\n",
        "\n",
        "df[\"X_Y_lin_acc\"]=df.linear_acceleration_X - df.linear_acceleration_Y\n",
        "df[\"X_Z_lin_acc\"]=df.linear_acceleration_X - df.linear_acceleration_Z\n",
        "df[\"Y_Z_lin_acc\"]=df.linear_acceleration_Y - df.linear_acceleration_Z\n",
        "\n",
        "df[\"X_Y_lin_acc_abs\"]=((df.linear_acceleration_X - df.linear_acceleration_Y)**2)**0.5\n",
        "df[\"X_Z_lin_acc_abs\"]=((df.linear_acceleration_X - df.linear_acceleration_Z)**2)**0.5\n",
        "df[\"Y_Z_lin_acc_abs\"]=((df.linear_acceleration_Y - df.linear_acceleration_Z)**2)**0.5\n"
      ],
      "execution_count": 0,
      "outputs": []
    },
    {
      "metadata": {
        "id": "lsr-07EMXUdO",
        "colab_type": "code",
        "colab": {}
      },
      "cell_type": "code",
      "source": [
        "\n",
        "    \n",
        "def quaternion_to_euler(x, y, z, w):\n",
        "    import math\n",
        "    t0 = +2.0 * (w * x + y * z)\n",
        "    t1 = +1.0 - 2.0 * (x * x + y * y)\n",
        "    X = math.atan2(t0, t1)\n",
        "\n",
        "    t2 = +2.0 * (w * y - z * x)\n",
        "    t2 = +1.0 if t2 > +1.0 else t2\n",
        "    t2 = -1.0 if t2 < -1.0 else t2\n",
        "    Y = math.asin(t2)\n",
        "\n",
        "    t3 = +2.0 * (w * z + x * y)\n",
        "    t4 = +1.0 - 2.0 * (y * y + z * z)\n",
        "    Z = math.atan2(t3, t4)\n",
        "\n",
        "    return X, Y, Z\n",
        "\n",
        "def fe(actual):\n",
        "    new = pd.DataFrame()\n",
        "    actual['total_angular_velocity'] = (actual['angular_velocity_X'] ** 2 + actual['angular_velocity_Y'] ** 2 + actual['angular_velocity_Z'] ** 2) ** 0.5\n",
        "    actual['total_linear_acceleration'] = (actual['linear_acceleration_X'] ** 2 + actual['linear_acceleration_Y'] ** 2 + actual['linear_acceleration_Z'] ** 2) ** 0.5\n",
        "    \n",
        "    actual['acc_vs_vel'] = actual['total_linear_acceleration'] / actual['total_angular_velocity']\n",
        "    \n",
        "    x, y, z, w = actual['orientation_X'].tolist(), actual['orientation_Y'].tolist(), actual['orientation_Z'].tolist(), actual['orientation_W'].tolist()\n",
        "    nx, ny, nz = [], [], []\n",
        "    for i in range(len(x)):\n",
        "        xx, yy, zz = quaternion_to_euler(x[i], y[i], z[i], w[i])\n",
        "        nx.append(xx)\n",
        "        ny.append(yy)\n",
        "        nz.append(zz)\n",
        "    \n",
        "    actual['euler_x'] = nx\n",
        "    actual['euler_y'] = ny\n",
        "    actual['euler_z'] = nz\n",
        "    \n",
        "    actual['total_angle'] = (actual['euler_x'] ** 2 + actual['euler_y'] ** 2 + actual['euler_z'] ** 2) ** 5\n",
        "    actual['angle_vs_acc'] = actual['total_angle'] / actual['total_linear_acceleration']\n",
        "    actual['angle_vs_vel'] = actual['total_angle'] / actual['total_angular_velocity']\n",
        "\n",
        "    return actual"
      ],
      "execution_count": 0,
      "outputs": []
    },
    {
      "metadata": {
        "id": "eJisBZNZFrwI",
        "colab_type": "code",
        "colab": {}
      },
      "cell_type": "code",
      "source": [
        "df=fe(df)"
      ],
      "execution_count": 0,
      "outputs": []
    },
    {
      "metadata": {
        "id": "6iJWWFynFy9s",
        "colab_type": "code",
        "colab": {}
      },
      "cell_type": "code",
      "source": [
        "import pandas as pd\n",
        "from sklearn.preprocessing import MinMaxScaler\n",
        "\n",
        "scaler = MinMaxScaler()\n",
        "scaled = scaler.fit_transform(df)"
      ],
      "execution_count": 0,
      "outputs": []
    },
    {
      "metadata": {
        "id": "KdFvaNSnHEeZ",
        "colab_type": "code",
        "colab": {}
      },
      "cell_type": "code",
      "source": [
        "scaled_df=pd.DataFrame(scaled)\n",
        "scaled_df.columns=df.columns"
      ],
      "execution_count": 0,
      "outputs": []
    },
    {
      "metadata": {
        "id": "L0WIb81WHhFR",
        "colab_type": "code",
        "colab": {}
      },
      "cell_type": "code",
      "source": [
        "new_df=scaled_df"
      ],
      "execution_count": 0,
      "outputs": []
    },
    {
      "metadata": {
        "id": "f1cFFBowrPJc",
        "colab_type": "code",
        "colab": {}
      },
      "cell_type": "code",
      "source": [
        "dist_feature=[]\n",
        "\n",
        "for i in range(487679):\n",
        "    dist_feature.append((((df.orientation_X[i]-df.orientation_X[i+1])**2)+((df.orientation_Y[i]-df.orientation_Y[i+1]))**2+\n",
        "                        ((df.orientation_Z[i]-df.orientation_Z[i+1])**2)+((df.orientation_W[i]-df.orientation_W[i+1])**2)))\n",
        "\n"
      ],
      "execution_count": 0,
      "outputs": []
    },
    {
      "metadata": {
        "id": "E5Syu9JVJbQ4",
        "colab_type": "code",
        "colab": {}
      },
      "cell_type": "code",
      "source": [
        "new_df"
      ],
      "execution_count": 0,
      "outputs": []
    },
    {
      "metadata": {
        "id": "n298bVNpwHuy",
        "colab_type": "code",
        "colab": {}
      },
      "cell_type": "code",
      "source": [
        "dist_feature.append(0)\n",
        "import math\n",
        "for i in dist_feature:\n",
        "    i=math.sqrt(i)"
      ],
      "execution_count": 0,
      "outputs": []
    },
    {
      "metadata": {
        "id": "RYKAAomxEu-d",
        "colab_type": "code",
        "colab": {}
      },
      "cell_type": "code",
      "source": [
        "df[\"abs_dist_traveled\"]=dist_feature"
      ],
      "execution_count": 0,
      "outputs": []
    },
    {
      "metadata": {
        "id": "jlDChZcVMnle",
        "colab_type": "code",
        "colab": {}
      },
      "cell_type": "code",
      "source": [
        "compressed=[]\n",
        "i=0\n",
        "while(i<len(new_df)):\n",
        "    appender=[]\n",
        "    for j in range(128):\n",
        "        appender.append(np.array(new_df.iloc[i+j]))\n",
        "    compressed.append(np.array(appender))\n",
        "    i=i+128"
      ],
      "execution_count": 0,
      "outputs": []
    },
    {
      "metadata": {
        "id": "ISszOBH2tL-m",
        "colab_type": "code",
        "outputId": "28605d87-b4df-4a45-e5fd-b195ad632e15",
        "colab": {
          "base_uri": "https://localhost:8080/",
          "height": 34
        }
      },
      "cell_type": "code",
      "source": [
        "len(compressed[0][0])"
      ],
      "execution_count": 0,
      "outputs": [
        {
          "output_type": "execute_result",
          "data": {
            "text/plain": [
              "55"
            ]
          },
          "metadata": {
            "tags": []
          },
          "execution_count": 44
        }
      ]
    },
    {
      "metadata": {
        "id": "qWaDEERppQXk",
        "colab_type": "code",
        "colab": {}
      },
      "cell_type": "code",
      "source": [
        "experiment"
      ],
      "execution_count": 0,
      "outputs": []
    },
    {
      "metadata": {
        "id": "Dfme7Vh-RNab",
        "colab_type": "code",
        "outputId": "ab0ffee8-a819-46d0-ada6-b6690409d2cc",
        "colab": {
          "base_uri": "https://localhost:8080/",
          "height": 54
        }
      },
      "cell_type": "code",
      "source": [
        "resp_vec=list(y_train.surface)\n",
        "print(resp_vec)"
      ],
      "execution_count": 0,
      "outputs": [
        {
          "output_type": "stream",
          "text": [
            "['fine_concrete', 'concrete', 'concrete', 'concrete', 'soft_tiles', 'tiled', 'soft_pvc', 'concrete', 'hard_tiles_large_space', 'tiled', 'soft_pvc', 'tiled', 'carpet', 'carpet', 'concrete', 'carpet', 'carpet', 'soft_tiles', 'tiled', 'soft_tiles', 'tiled', 'hard_tiles_large_space', 'soft_tiles', 'tiled', 'soft_tiles', 'soft_tiles', 'fine_concrete', 'hard_tiles', 'tiled', 'hard_tiles_large_space', 'soft_tiles', 'soft_tiles', 'fine_concrete', 'concrete', 'concrete', 'concrete', 'tiled', 'carpet', 'soft_pvc', 'wood', 'fine_concrete', 'wood', 'fine_concrete', 'wood', 'soft_tiles', 'hard_tiles', 'soft_pvc', 'fine_concrete', 'concrete', 'soft_pvc', 'concrete', 'soft_tiles', 'soft_tiles', 'concrete', 'carpet', 'soft_tiles', 'fine_concrete', 'fine_concrete', 'carpet', 'soft_tiles', 'concrete', 'tiled', 'soft_pvc', 'hard_tiles_large_space', 'soft_pvc', 'concrete', 'tiled', 'tiled', 'concrete', 'soft_pvc', 'concrete', 'concrete', 'soft_pvc', 'soft_pvc', 'wood', 'fine_concrete', 'soft_tiles', 'fine_concrete', 'soft_pvc', 'fine_concrete', 'soft_tiles', 'tiled', 'soft_pvc', 'wood', 'fine_concrete', 'soft_tiles', 'concrete', 'soft_pvc', 'soft_tiles', 'wood', 'soft_pvc', 'soft_pvc', 'fine_concrete', 'fine_concrete', 'concrete', 'soft_tiles', 'wood', 'wood', 'hard_tiles_large_space', 'tiled', 'fine_concrete', 'soft_tiles', 'wood', 'soft_pvc', 'fine_concrete', 'soft_pvc', 'soft_tiles', 'soft_tiles', 'soft_pvc', 'soft_pvc', 'wood', 'fine_concrete', 'soft_pvc', 'concrete', 'soft_tiles', 'soft_pvc', 'soft_pvc', 'soft_tiles', 'carpet', 'hard_tiles_large_space', 'tiled', 'soft_tiles', 'soft_pvc', 'soft_pvc', 'hard_tiles_large_space', 'concrete', 'tiled', 'tiled', 'carpet', 'soft_tiles', 'soft_pvc', 'soft_pvc', 'fine_concrete', 'soft_pvc', 'soft_tiles', 'soft_tiles', 'soft_tiles', 'soft_tiles', 'wood', 'concrete', 'soft_tiles', 'tiled', 'hard_tiles_large_space', 'soft_pvc', 'concrete', 'soft_tiles', 'tiled', 'wood', 'hard_tiles', 'carpet', 'soft_tiles', 'concrete', 'concrete', 'hard_tiles_large_space', 'soft_pvc', 'fine_concrete', 'soft_tiles', 'concrete', 'soft_pvc', 'soft_tiles', 'tiled', 'fine_concrete', 'concrete', 'soft_pvc', 'wood', 'hard_tiles_large_space', 'soft_pvc', 'fine_concrete', 'fine_concrete', 'fine_concrete', 'tiled', 'tiled', 'wood', 'concrete', 'tiled', 'hard_tiles_large_space', 'carpet', 'wood', 'soft_pvc', 'hard_tiles_large_space', 'soft_tiles', 'tiled', 'concrete', 'hard_tiles_large_space', 'soft_pvc', 'hard_tiles_large_space', 'soft_pvc', 'tiled', 'carpet', 'hard_tiles', 'fine_concrete', 'soft_tiles', 'wood', 'soft_pvc', 'fine_concrete', 'concrete', 'soft_tiles', 'wood', 'concrete', 'concrete', 'tiled', 'soft_pvc', 'concrete', 'soft_pvc', 'wood', 'soft_pvc', 'carpet', 'wood', 'concrete', 'hard_tiles_large_space', 'soft_tiles', 'soft_pvc', 'concrete', 'carpet', 'soft_pvc', 'wood', 'wood', 'wood', 'soft_tiles', 'carpet', 'tiled', 'soft_tiles', 'soft_pvc', 'soft_pvc', 'hard_tiles_large_space', 'tiled', 'wood', 'soft_pvc', 'soft_pvc', 'wood', 'concrete', 'fine_concrete', 'soft_pvc', 'concrete', 'tiled', 'concrete', 'soft_tiles', 'soft_pvc', 'fine_concrete', 'tiled', 'soft_tiles', 'soft_pvc', 'concrete', 'concrete', 'carpet', 'soft_tiles', 'soft_pvc', 'soft_pvc', 'soft_tiles', 'soft_pvc', 'carpet', 'wood', 'soft_pvc', 'soft_tiles', 'tiled', 'wood', 'wood', 'hard_tiles', 'soft_tiles', 'soft_tiles', 'soft_pvc', 'concrete', 'soft_pvc', 'wood', 'soft_pvc', 'wood', 'soft_pvc', 'soft_pvc', 'concrete', 'soft_pvc', 'wood', 'tiled', 'soft_tiles', 'hard_tiles_large_space', 'fine_concrete', 'soft_tiles', 'tiled', 'concrete', 'soft_tiles', 'soft_pvc', 'fine_concrete', 'concrete', 'soft_pvc', 'soft_pvc', 'tiled', 'hard_tiles_large_space', 'soft_pvc', 'soft_pvc', 'soft_pvc', 'soft_pvc', 'soft_pvc', 'soft_tiles', 'soft_tiles', 'soft_tiles', 'soft_pvc', 'soft_pvc', 'hard_tiles_large_space', 'wood', 'soft_tiles', 'concrete', 'hard_tiles_large_space', 'soft_pvc', 'soft_pvc', 'tiled', 'concrete', 'tiled', 'concrete', 'soft_tiles', 'carpet', 'tiled', 'concrete', 'hard_tiles_large_space', 'carpet', 'tiled', 'soft_tiles', 'concrete', 'soft_tiles', 'tiled', 'carpet', 'concrete', 'soft_pvc', 'soft_tiles', 'wood', 'concrete', 'tiled', 'soft_pvc', 'soft_pvc', 'soft_pvc', 'wood', 'soft_pvc', 'concrete', 'soft_pvc', 'wood', 'concrete', 'soft_tiles', 'concrete', 'wood', 'soft_pvc', 'tiled', 'soft_tiles', 'soft_pvc', 'wood', 'concrete', 'hard_tiles_large_space', 'wood', 'concrete', 'soft_pvc', 'tiled', 'soft_tiles', 'concrete', 'hard_tiles_large_space', 'soft_tiles', 'fine_concrete', 'concrete', 'soft_pvc', 'wood', 'concrete', 'soft_tiles', 'fine_concrete', 'wood', 'concrete', 'soft_pvc', 'concrete', 'soft_pvc', 'soft_pvc', 'soft_tiles', 'tiled', 'soft_pvc', 'tiled', 'wood', 'soft_tiles', 'soft_tiles', 'soft_tiles', 'concrete', 'soft_pvc', 'soft_tiles', 'hard_tiles_large_space', 'soft_tiles', 'tiled', 'soft_tiles', 'soft_tiles', 'soft_pvc', 'tiled', 'soft_pvc', 'hard_tiles_large_space', 'soft_tiles', 'tiled', 'concrete', 'soft_pvc', 'carpet', 'soft_pvc', 'wood', 'carpet', 'fine_concrete', 'fine_concrete', 'carpet', 'concrete', 'soft_tiles', 'hard_tiles_large_space', 'soft_tiles', 'concrete', 'concrete', 'soft_pvc', 'concrete', 'concrete', 'soft_tiles', 'soft_tiles', 'soft_pvc', 'concrete', 'soft_pvc', 'tiled', 'tiled', 'soft_pvc', 'soft_pvc', 'concrete', 'fine_concrete', 'soft_pvc', 'wood', 'wood', 'concrete', 'soft_pvc', 'soft_tiles', 'tiled', 'soft_pvc', 'soft_pvc', 'soft_tiles', 'hard_tiles_large_space', 'concrete', 'concrete', 'tiled', 'soft_pvc', 'tiled', 'hard_tiles_large_space', 'soft_pvc', 'soft_pvc', 'soft_pvc', 'wood', 'soft_pvc', 'concrete', 'soft_tiles', 'soft_tiles', 'fine_concrete', 'wood', 'hard_tiles_large_space', 'soft_pvc', 'soft_tiles', 'wood', 'wood', 'soft_tiles', 'concrete', 'tiled', 'soft_pvc', 'soft_tiles', 'soft_pvc', 'soft_tiles', 'soft_tiles', 'soft_pvc', 'hard_tiles_large_space', 'soft_tiles', 'hard_tiles', 'soft_tiles', 'wood', 'hard_tiles_large_space', 'soft_tiles', 'soft_pvc', 'soft_pvc', 'concrete', 'soft_pvc', 'soft_tiles', 'concrete', 'concrete', 'concrete', 'soft_pvc', 'wood', 'soft_tiles', 'fine_concrete', 'tiled', 'soft_pvc', 'soft_tiles', 'concrete', 'soft_tiles', 'tiled', 'soft_pvc', 'wood', 'tiled', 'soft_tiles', 'fine_concrete', 'concrete', 'tiled', 'fine_concrete', 'soft_pvc', 'soft_pvc', 'concrete', 'fine_concrete', 'concrete', 'concrete', 'tiled', 'soft_tiles', 'concrete', 'carpet', 'soft_pvc', 'soft_tiles', 'soft_tiles', 'soft_pvc', 'soft_tiles', 'soft_tiles', 'carpet', 'fine_concrete', 'soft_tiles', 'soft_pvc', 'concrete', 'soft_tiles', 'concrete', 'soft_pvc', 'tiled', 'wood', 'fine_concrete', 'concrete', 'soft_pvc', 'fine_concrete', 'carpet', 'fine_concrete', 'wood', 'concrete', 'concrete', 'soft_tiles', 'wood', 'hard_tiles', 'carpet', 'tiled', 'wood', 'wood', 'wood', 'hard_tiles_large_space', 'soft_pvc', 'concrete', 'wood', 'concrete', 'wood', 'soft_pvc', 'hard_tiles_large_space', 'soft_tiles', 'soft_pvc', 'soft_tiles', 'soft_pvc', 'soft_pvc', 'wood', 'hard_tiles_large_space', 'hard_tiles_large_space', 'wood', 'soft_tiles', 'wood', 'soft_tiles', 'soft_pvc', 'soft_pvc', 'hard_tiles_large_space', 'soft_pvc', 'tiled', 'hard_tiles_large_space', 'tiled', 'hard_tiles_large_space', 'tiled', 'concrete', 'fine_concrete', 'concrete', 'soft_pvc', 'hard_tiles', 'soft_pvc', 'soft_tiles', 'wood', 'concrete', 'soft_tiles', 'carpet', 'wood', 'soft_pvc', 'concrete', 'concrete', 'soft_tiles', 'concrete', 'wood', 'carpet', 'soft_tiles', 'soft_tiles', 'tiled', 'wood', 'concrete', 'concrete', 'hard_tiles', 'wood', 'fine_concrete', 'fine_concrete', 'hard_tiles_large_space', 'soft_tiles', 'soft_pvc', 'hard_tiles_large_space', 'soft_tiles', 'tiled', 'soft_tiles', 'hard_tiles_large_space', 'concrete', 'fine_concrete', 'fine_concrete', 'concrete', 'carpet', 'soft_pvc', 'tiled', 'wood', 'tiled', 'concrete', 'soft_pvc', 'soft_pvc', 'soft_pvc', 'soft_pvc', 'carpet', 'wood', 'soft_tiles', 'hard_tiles_large_space', 'concrete', 'tiled', 'concrete', 'soft_tiles', 'tiled', 'wood', 'concrete', 'wood', 'fine_concrete', 'tiled', 'soft_tiles', 'wood', 'soft_pvc', 'concrete', 'soft_pvc', 'soft_pvc', 'carpet', 'soft_tiles', 'soft_pvc', 'tiled', 'soft_tiles', 'concrete', 'soft_pvc', 'soft_pvc', 'fine_concrete', 'soft_pvc', 'concrete', 'soft_tiles', 'hard_tiles_large_space', 'soft_pvc', 'concrete', 'soft_pvc', 'soft_pvc', 'soft_tiles', 'hard_tiles_large_space', 'tiled', 'concrete', 'concrete', 'fine_concrete', 'tiled', 'soft_pvc', 'hard_tiles_large_space', 'soft_tiles', 'concrete', 'carpet', 'soft_tiles', 'soft_tiles', 'carpet', 'carpet', 'hard_tiles_large_space', 'tiled', 'soft_pvc', 'soft_tiles', 'carpet', 'wood', 'soft_pvc', 'carpet', 'wood', 'fine_concrete', 'soft_pvc', 'soft_tiles', 'soft_pvc', 'concrete', 'concrete', 'tiled', 'soft_tiles', 'soft_pvc', 'soft_pvc', 'soft_pvc', 'concrete', 'soft_pvc', 'tiled', 'tiled', 'fine_concrete', 'soft_tiles', 'tiled', 'soft_pvc', 'concrete', 'wood', 'tiled', 'fine_concrete', 'soft_pvc', 'soft_pvc', 'soft_pvc', 'soft_pvc', 'soft_tiles', 'concrete', 'carpet', 'fine_concrete', 'soft_tiles', 'concrete', 'wood', 'carpet', 'soft_pvc', 'soft_pvc', 'soft_pvc', 'carpet', 'soft_pvc', 'soft_tiles', 'fine_concrete', 'tiled', 'carpet', 'soft_pvc', 'soft_tiles', 'carpet', 'concrete', 'hard_tiles_large_space', 'wood', 'carpet', 'wood', 'wood', 'soft_pvc', 'hard_tiles_large_space', 'concrete', 'soft_tiles', 'wood', 'soft_tiles', 'concrete', 'wood', 'wood', 'fine_concrete', 'soft_pvc', 'concrete', 'soft_tiles', 'fine_concrete', 'soft_tiles', 'wood', 'concrete', 'hard_tiles', 'soft_pvc', 'tiled', 'concrete', 'soft_tiles', 'fine_concrete', 'soft_pvc', 'fine_concrete', 'hard_tiles_large_space', 'wood', 'soft_pvc', 'soft_tiles', 'soft_tiles', 'concrete', 'soft_tiles', 'soft_tiles', 'fine_concrete', 'tiled', 'soft_tiles', 'concrete', 'concrete', 'tiled', 'soft_tiles', 'soft_pvc', 'wood', 'wood', 'concrete', 'concrete', 'soft_tiles', 'wood', 'soft_pvc', 'soft_tiles', 'concrete', 'fine_concrete', 'tiled', 'wood', 'soft_pvc', 'soft_pvc', 'wood', 'soft_pvc', 'hard_tiles_large_space', 'tiled', 'hard_tiles_large_space', 'soft_pvc', 'tiled', 'fine_concrete', 'wood', 'concrete', 'soft_tiles', 'soft_pvc', 'fine_concrete', 'carpet', 'hard_tiles_large_space', 'hard_tiles', 'soft_pvc', 'soft_pvc', 'concrete', 'carpet', 'soft_tiles', 'hard_tiles', 'soft_tiles', 'tiled', 'hard_tiles_large_space', 'soft_pvc', 'soft_pvc', 'concrete', 'tiled', 'wood', 'tiled', 'fine_concrete', 'tiled', 'wood', 'concrete', 'soft_pvc', 'soft_tiles', 'tiled', 'wood', 'soft_tiles', 'fine_concrete', 'carpet', 'soft_pvc', 'hard_tiles', 'soft_pvc', 'concrete', 'wood', 'soft_tiles', 'soft_pvc', 'soft_tiles', 'tiled', 'concrete', 'wood', 'fine_concrete', 'tiled', 'soft_tiles', 'concrete', 'fine_concrete', 'soft_pvc', 'soft_pvc', 'hard_tiles_large_space', 'soft_tiles', 'hard_tiles_large_space', 'concrete', 'tiled', 'wood', 'soft_tiles', 'soft_pvc', 'concrete', 'soft_pvc', 'hard_tiles_large_space', 'concrete', 'soft_pvc', 'tiled', 'wood', 'soft_pvc', 'hard_tiles_large_space', 'soft_pvc', 'concrete', 'concrete', 'carpet', 'soft_tiles', 'concrete', 'fine_concrete', 'wood', 'carpet', 'soft_tiles', 'concrete', 'soft_pvc', 'tiled', 'soft_pvc', 'soft_tiles', 'concrete', 'soft_pvc', 'wood', 'wood', 'soft_pvc', 'hard_tiles_large_space', 'soft_pvc', 'concrete', 'soft_pvc', 'soft_tiles', 'concrete', 'hard_tiles_large_space', 'soft_tiles', 'soft_tiles', 'carpet', 'tiled', 'soft_pvc', 'soft_tiles', 'concrete', 'soft_tiles', 'tiled', 'soft_pvc', 'concrete', 'wood', 'hard_tiles_large_space', 'hard_tiles_large_space', 'tiled', 'concrete', 'wood', 'soft_pvc', 'soft_pvc', 'wood', 'tiled', 'concrete', 'soft_pvc', 'soft_tiles', 'wood', 'soft_tiles', 'soft_tiles', 'soft_pvc', 'carpet', 'soft_pvc', 'hard_tiles_large_space', 'carpet', 'tiled', 'soft_tiles', 'concrete', 'soft_pvc', 'concrete', 'concrete', 'soft_pvc', 'concrete', 'wood', 'tiled', 'wood', 'fine_concrete', 'soft_pvc', 'soft_pvc', 'concrete', 'fine_concrete', 'carpet', 'soft_tiles', 'concrete', 'concrete', 'soft_pvc', 'soft_tiles', 'soft_pvc', 'tiled', 'soft_tiles', 'tiled', 'concrete', 'fine_concrete', 'soft_pvc', 'soft_pvc', 'carpet', 'soft_pvc', 'soft_pvc', 'soft_pvc', 'soft_pvc', 'carpet', 'soft_pvc', 'wood', 'wood', 'fine_concrete', 'soft_pvc', 'soft_pvc', 'tiled', 'soft_pvc', 'soft_pvc', 'soft_pvc', 'wood', 'soft_pvc', 'concrete', 'concrete', 'carpet', 'soft_pvc', 'tiled', 'concrete', 'soft_pvc', 'wood', 'wood', 'soft_tiles', 'concrete', 'soft_tiles', 'carpet', 'soft_pvc', 'wood', 'wood', 'soft_pvc', 'tiled', 'fine_concrete', 'soft_pvc', 'concrete', 'concrete', 'soft_tiles', 'soft_pvc', 'carpet', 'soft_pvc', 'fine_concrete', 'wood', 'tiled', 'fine_concrete', 'soft_tiles', 'tiled', 'soft_tiles', 'tiled', 'hard_tiles_large_space', 'soft_tiles', 'concrete', 'tiled', 'fine_concrete', 'concrete', 'concrete', 'fine_concrete', 'soft_tiles', 'concrete', 'carpet', 'hard_tiles_large_space', 'wood', 'fine_concrete', 'soft_tiles', 'concrete', 'wood', 'concrete', 'carpet', 'soft_pvc', 'soft_pvc', 'soft_tiles', 'concrete', 'soft_pvc', 'concrete', 'tiled', 'wood', 'soft_tiles', 'soft_pvc', 'concrete', 'wood', 'wood', 'soft_tiles', 'tiled', 'soft_pvc', 'soft_pvc', 'hard_tiles_large_space', 'soft_pvc', 'soft_pvc', 'concrete', 'concrete', 'soft_pvc', 'wood', 'hard_tiles_large_space', 'fine_concrete', 'wood', 'concrete', 'hard_tiles_large_space', 'concrete', 'fine_concrete', 'soft_tiles', 'fine_concrete', 'wood', 'soft_pvc', 'carpet', 'hard_tiles_large_space', 'carpet', 'hard_tiles_large_space', 'tiled', 'soft_pvc', 'concrete', 'soft_pvc', 'soft_tiles', 'hard_tiles_large_space', 'tiled', 'soft_pvc', 'wood', 'carpet', 'soft_pvc', 'concrete', 'soft_tiles', 'concrete', 'soft_pvc', 'concrete', 'concrete', 'concrete', 'soft_pvc', 'soft_pvc', 'concrete', 'soft_pvc', 'soft_pvc', 'wood', 'concrete', 'soft_tiles', 'soft_pvc', 'carpet', 'soft_pvc', 'carpet', 'hard_tiles_large_space', 'concrete', 'carpet', 'wood', 'tiled', 'carpet', 'soft_tiles', 'tiled', 'concrete', 'concrete', 'wood', 'tiled', 'soft_pvc', 'soft_pvc', 'soft_tiles', 'soft_pvc', 'wood', 'soft_tiles', 'wood', 'tiled', 'soft_pvc', 'soft_tiles', 'soft_pvc', 'carpet', 'concrete', 'wood', 'tiled', 'concrete', 'wood', 'fine_concrete', 'carpet', 'soft_tiles', 'carpet', 'wood', 'fine_concrete', 'concrete', 'hard_tiles', 'soft_tiles', 'tiled', 'soft_tiles', 'concrete', 'soft_pvc', 'tiled', 'soft_pvc', 'tiled', 'concrete', 'soft_pvc', 'soft_tiles', 'concrete', 'hard_tiles_large_space', 'concrete', 'soft_pvc', 'concrete', 'soft_pvc', 'soft_pvc', 'soft_tiles', 'soft_pvc', 'soft_tiles', 'soft_tiles', 'soft_pvc', 'tiled', 'carpet', 'tiled', 'tiled', 'carpet', 'carpet', 'carpet', 'concrete', 'tiled', 'carpet', 'soft_pvc', 'wood', 'tiled', 'concrete', 'tiled', 'concrete', 'carpet', 'fine_concrete', 'tiled', 'soft_pvc', 'tiled', 'soft_pvc', 'concrete', 'soft_tiles', 'tiled', 'fine_concrete', 'soft_pvc', 'soft_tiles', 'wood', 'hard_tiles_large_space', 'soft_tiles', 'soft_pvc', 'tiled', 'soft_tiles', 'soft_tiles', 'soft_pvc', 'concrete', 'tiled', 'carpet', 'concrete', 'wood', 'tiled', 'wood', 'concrete', 'hard_tiles', 'soft_tiles', 'wood', 'soft_pvc', 'soft_tiles', 'soft_tiles', 'tiled', 'soft_tiles', 'soft_pvc', 'concrete', 'wood', 'soft_pvc', 'soft_pvc', 'tiled', 'soft_tiles', 'tiled', 'soft_pvc', 'concrete', 'concrete', 'wood', 'concrete', 'concrete', 'soft_pvc', 'concrete', 'soft_tiles', 'concrete', 'soft_tiles', 'soft_pvc', 'concrete', 'concrete', 'hard_tiles_large_space', 'soft_tiles', 'soft_tiles', 'soft_tiles', 'soft_pvc', 'wood', 'soft_pvc', 'tiled', 'fine_concrete', 'soft_tiles', 'carpet', 'tiled', 'soft_pvc', 'hard_tiles_large_space', 'carpet', 'concrete', 'carpet', 'soft_pvc', 'wood', 'soft_tiles', 'soft_tiles', 'concrete', 'soft_tiles', 'concrete', 'soft_pvc', 'soft_pvc', 'concrete', 'fine_concrete', 'soft_pvc', 'soft_pvc', 'wood', 'tiled', 'soft_tiles', 'soft_tiles', 'tiled', 'concrete', 'carpet', 'soft_pvc', 'wood', 'concrete', 'soft_tiles', 'concrete', 'concrete', 'concrete', 'soft_pvc', 'soft_tiles', 'soft_pvc', 'soft_tiles', 'tiled', 'tiled', 'wood', 'fine_concrete', 'tiled', 'soft_pvc', 'hard_tiles', 'wood', 'concrete', 'soft_pvc', 'soft_tiles', 'concrete', 'carpet', 'wood', 'soft_tiles', 'soft_pvc', 'soft_pvc', 'carpet', 'hard_tiles_large_space', 'soft_pvc', 'tiled', 'concrete', 'hard_tiles_large_space', 'soft_pvc', 'hard_tiles_large_space', 'wood', 'carpet', 'tiled', 'carpet', 'wood', 'wood', 'soft_tiles', 'soft_pvc', 'hard_tiles_large_space', 'wood', 'soft_pvc', 'soft_pvc', 'soft_tiles', 'soft_pvc', 'concrete', 'soft_pvc', 'soft_pvc', 'fine_concrete', 'soft_tiles', 'concrete', 'soft_tiles', 'concrete', 'fine_concrete', 'soft_pvc', 'concrete', 'concrete', 'soft_pvc', 'soft_tiles', 'soft_tiles', 'soft_pvc', 'tiled', 'soft_tiles', 'concrete', 'soft_pvc', 'concrete', 'soft_tiles', 'soft_pvc', 'wood', 'concrete', 'soft_tiles', 'hard_tiles_large_space', 'soft_tiles', 'fine_concrete', 'soft_pvc', 'wood', 'tiled', 'soft_tiles', 'hard_tiles_large_space', 'soft_pvc', 'concrete', 'carpet', 'wood', 'hard_tiles_large_space', 'tiled', 'soft_pvc', 'soft_pvc', 'soft_pvc', 'hard_tiles_large_space', 'carpet', 'soft_pvc', 'concrete', 'soft_tiles', 'wood', 'soft_pvc', 'tiled', 'wood', 'soft_tiles', 'wood', 'carpet', 'concrete', 'soft_pvc', 'carpet', 'hard_tiles_large_space', 'soft_tiles', 'tiled', 'tiled', 'concrete', 'soft_tiles', 'concrete', 'soft_tiles', 'soft_tiles', 'tiled', 'soft_tiles', 'carpet', 'soft_tiles', 'tiled', 'wood', 'wood', 'tiled', 'concrete', 'soft_pvc', 'soft_pvc', 'soft_tiles', 'soft_pvc', 'hard_tiles_large_space', 'fine_concrete', 'concrete', 'carpet', 'concrete', 'fine_concrete', 'soft_tiles', 'carpet', 'wood', 'hard_tiles', 'hard_tiles_large_space', 'soft_tiles', 'concrete', 'hard_tiles_large_space', 'soft_pvc', 'hard_tiles_large_space', 'soft_tiles', 'concrete', 'soft_pvc', 'soft_tiles', 'tiled', 'wood', 'soft_tiles', 'tiled', 'soft_pvc', 'concrete', 'tiled', 'soft_pvc', 'concrete', 'soft_pvc', 'concrete', 'carpet', 'concrete', 'soft_pvc', 'concrete', 'soft_pvc', 'concrete', 'carpet', 'fine_concrete', 'tiled', 'soft_tiles', 'carpet', 'tiled', 'hard_tiles_large_space', 'soft_pvc', 'soft_pvc', 'concrete', 'soft_pvc', 'soft_pvc', 'soft_tiles', 'wood', 'fine_concrete', 'hard_tiles_large_space', 'tiled', 'soft_pvc', 'soft_pvc', 'soft_pvc', 'hard_tiles_large_space', 'soft_pvc', 'soft_pvc', 'soft_pvc', 'soft_pvc', 'wood', 'concrete', 'hard_tiles', 'hard_tiles', 'wood', 'concrete', 'tiled', 'concrete', 'concrete', 'soft_tiles', 'carpet', 'soft_pvc', 'wood', 'fine_concrete', 'soft_tiles', 'soft_pvc', 'soft_tiles', 'wood', 'tiled', 'concrete', 'soft_pvc', 'concrete', 'soft_tiles', 'tiled', 'soft_pvc', 'soft_pvc', 'soft_pvc', 'concrete', 'soft_pvc', 'wood', 'wood', 'concrete', 'soft_pvc', 'fine_concrete', 'concrete', 'soft_tiles', 'soft_pvc', 'soft_pvc', 'soft_tiles', 'soft_tiles', 'soft_pvc', 'soft_pvc', 'soft_pvc', 'soft_pvc', 'fine_concrete', 'soft_tiles', 'soft_tiles', 'wood', 'soft_tiles', 'wood', 'wood', 'soft_tiles', 'soft_pvc', 'carpet', 'fine_concrete', 'fine_concrete', 'wood', 'carpet', 'concrete', 'tiled', 'soft_pvc', 'soft_pvc', 'tiled', 'soft_pvc', 'soft_pvc', 'soft_tiles', 'concrete', 'concrete', 'tiled', 'soft_tiles', 'fine_concrete', 'fine_concrete', 'concrete', 'tiled', 'tiled', 'tiled', 'hard_tiles_large_space', 'soft_tiles', 'soft_tiles', 'tiled', 'soft_tiles', 'fine_concrete', 'tiled', 'concrete', 'soft_tiles', 'fine_concrete', 'soft_tiles', 'wood', 'concrete', 'soft_pvc', 'concrete', 'soft_pvc', 'soft_pvc', 'soft_pvc', 'soft_pvc', 'soft_tiles', 'wood', 'soft_tiles', 'fine_concrete', 'soft_tiles', 'soft_pvc', 'soft_tiles', 'soft_pvc', 'hard_tiles_large_space', 'tiled', 'soft_pvc', 'soft_pvc', 'soft_pvc', 'fine_concrete', 'soft_pvc', 'soft_pvc', 'soft_pvc', 'tiled', 'soft_tiles', 'fine_concrete', 'tiled', 'soft_tiles', 'soft_pvc', 'soft_pvc', 'concrete', 'concrete', 'wood', 'carpet', 'concrete', 'wood', 'soft_pvc', 'concrete', 'hard_tiles_large_space', 'fine_concrete', 'tiled', 'soft_tiles', 'carpet', 'concrete', 'soft_tiles', 'hard_tiles_large_space', 'soft_pvc', 'soft_tiles', 'soft_tiles', 'concrete', 'carpet', 'soft_tiles', 'soft_pvc', 'carpet', 'wood', 'concrete', 'tiled', 'soft_pvc', 'fine_concrete', 'hard_tiles_large_space', 'soft_tiles', 'soft_pvc', 'concrete', 'tiled', 'soft_pvc', 'wood', 'concrete', 'fine_concrete', 'hard_tiles_large_space', 'hard_tiles', 'soft_tiles', 'tiled', 'soft_pvc', 'hard_tiles_large_space', 'wood', 'tiled', 'soft_pvc', 'concrete', 'soft_tiles', 'concrete', 'wood', 'soft_tiles', 'carpet', 'soft_tiles', 'fine_concrete', 'soft_pvc', 'soft_tiles', 'carpet', 'carpet', 'concrete', 'tiled', 'tiled', 'concrete', 'wood', 'wood', 'wood', 'soft_pvc', 'concrete', 'soft_pvc', 'soft_tiles', 'soft_pvc', 'hard_tiles_large_space', 'soft_tiles', 'wood', 'concrete', 'tiled', 'soft_pvc', 'tiled', 'hard_tiles_large_space', 'wood', 'soft_tiles', 'tiled', 'soft_tiles', 'carpet', 'wood', 'fine_concrete', 'hard_tiles_large_space', 'soft_pvc', 'concrete', 'wood', 'concrete', 'fine_concrete', 'concrete', 'concrete', 'soft_pvc', 'soft_pvc', 'concrete', 'concrete', 'carpet', 'fine_concrete', 'hard_tiles', 'tiled', 'soft_pvc', 'wood', 'soft_tiles', 'soft_tiles', 'soft_tiles', 'wood', 'wood', 'soft_tiles', 'soft_tiles', 'soft_tiles', 'soft_tiles', 'wood', 'concrete', 'concrete', 'soft_pvc', 'soft_pvc', 'wood', 'fine_concrete', 'concrete', 'wood', 'wood', 'fine_concrete', 'soft_tiles', 'soft_tiles', 'concrete', 'soft_pvc', 'hard_tiles_large_space', 'soft_tiles', 'carpet', 'tiled', 'soft_pvc', 'soft_pvc', 'tiled', 'soft_pvc', 'carpet', 'concrete', 'carpet', 'hard_tiles_large_space', 'wood', 'soft_pvc', 'soft_pvc', 'concrete', 'soft_pvc', 'soft_pvc', 'hard_tiles_large_space', 'fine_concrete', 'wood', 'wood', 'concrete', 'wood', 'concrete', 'tiled', 'concrete', 'wood', 'fine_concrete', 'soft_pvc', 'hard_tiles_large_space', 'tiled', 'wood', 'soft_pvc', 'hard_tiles_large_space', 'tiled', 'wood', 'concrete', 'wood', 'carpet', 'concrete', 'wood', 'tiled', 'concrete', 'hard_tiles_large_space', 'concrete', 'fine_concrete', 'soft_pvc', 'wood', 'wood', 'soft_pvc', 'fine_concrete', 'hard_tiles_large_space', 'tiled', 'hard_tiles_large_space', 'carpet', 'hard_tiles_large_space', 'tiled', 'fine_concrete', 'wood', 'wood', 'fine_concrete', 'concrete', 'hard_tiles_large_space', 'fine_concrete', 'wood', 'concrete', 'soft_pvc', 'wood', 'fine_concrete', 'carpet', 'soft_pvc', 'soft_pvc', 'fine_concrete', 'concrete', 'wood', 'concrete', 'wood', 'soft_pvc', 'wood', 'hard_tiles_large_space', 'concrete', 'concrete', 'tiled', 'fine_concrete', 'hard_tiles_large_space', 'wood', 'soft_pvc', 'wood', 'fine_concrete', 'fine_concrete', 'concrete', 'soft_pvc', 'soft_pvc', 'tiled', 'concrete', 'carpet', 'tiled', 'carpet', 'carpet', 'tiled', 'wood', 'concrete', 'tiled', 'wood', 'fine_concrete', 'soft_pvc', 'wood', 'wood', 'tiled', 'tiled', 'tiled', 'wood', 'soft_pvc', 'tiled', 'concrete', 'concrete', 'concrete', 'fine_concrete', 'tiled', 'fine_concrete', 'carpet', 'soft_pvc', 'concrete', 'concrete', 'wood', 'hard_tiles_large_space', 'fine_concrete', 'soft_pvc', 'soft_pvc', 'hard_tiles_large_space', 'soft_pvc', 'concrete', 'soft_pvc', 'tiled', 'carpet', 'wood', 'soft_pvc', 'concrete', 'soft_pvc', 'tiled', 'wood', 'wood', 'tiled', 'soft_pvc', 'tiled', 'concrete', 'hard_tiles_large_space', 'soft_pvc', 'concrete', 'hard_tiles_large_space', 'soft_pvc', 'concrete', 'wood', 'fine_concrete', 'wood', 'tiled', 'concrete', 'tiled', 'hard_tiles_large_space', 'fine_concrete', 'concrete', 'hard_tiles_large_space', 'concrete', 'concrete', 'wood', 'carpet', 'hard_tiles_large_space', 'carpet', 'concrete', 'hard_tiles_large_space', 'soft_pvc', 'concrete', 'soft_pvc', 'tiled', 'concrete', 'tiled', 'carpet', 'tiled', 'hard_tiles_large_space', 'hard_tiles_large_space', 'concrete', 'soft_pvc', 'soft_pvc', 'hard_tiles_large_space', 'soft_pvc', 'wood', 'concrete', 'concrete', 'tiled', 'concrete', 'wood', 'fine_concrete', 'fine_concrete', 'soft_pvc', 'soft_pvc', 'concrete', 'carpet', 'concrete', 'hard_tiles_large_space', 'wood', 'carpet', 'tiled', 'wood', 'tiled', 'fine_concrete', 'fine_concrete', 'fine_concrete', 'fine_concrete', 'hard_tiles_large_space', 'wood', 'soft_pvc', 'wood', 'tiled', 'carpet', 'concrete', 'carpet', 'tiled', 'hard_tiles_large_space', 'carpet', 'concrete', 'carpet', 'soft_pvc', 'wood', 'fine_concrete', 'hard_tiles_large_space', 'fine_concrete', 'tiled', 'fine_concrete', 'concrete', 'wood', 'carpet', 'fine_concrete', 'soft_pvc', 'tiled', 'concrete', 'soft_pvc', 'carpet', 'fine_concrete', 'concrete', 'hard_tiles_large_space', 'concrete', 'tiled', 'wood', 'wood', 'carpet', 'fine_concrete', 'soft_pvc', 'tiled', 'wood', 'soft_pvc', 'fine_concrete', 'wood', 'tiled', 'concrete', 'wood', 'concrete', 'soft_pvc', 'concrete', 'hard_tiles_large_space', 'fine_concrete', 'concrete', 'tiled', 'hard_tiles_large_space', 'concrete', 'wood', 'fine_concrete', 'concrete', 'concrete', 'soft_pvc', 'concrete', 'concrete', 'hard_tiles_large_space', 'wood', 'fine_concrete', 'soft_pvc', 'concrete', 'fine_concrete', 'tiled', 'fine_concrete', 'soft_pvc', 'soft_pvc', 'concrete', 'wood', 'fine_concrete', 'wood', 'concrete', 'concrete', 'wood', 'tiled', 'fine_concrete', 'wood', 'concrete', 'tiled', 'wood', 'soft_pvc', 'fine_concrete', 'hard_tiles_large_space', 'wood', 'hard_tiles_large_space', 'tiled', 'tiled', 'concrete', 'carpet', 'wood', 'hard_tiles_large_space', 'hard_tiles_large_space', 'concrete', 'fine_concrete', 'wood', 'carpet', 'concrete', 'wood', 'tiled', 'fine_concrete', 'soft_pvc', 'hard_tiles_large_space', 'hard_tiles_large_space', 'hard_tiles_large_space', 'soft_pvc', 'fine_concrete', 'fine_concrete', 'wood', 'fine_concrete', 'concrete', 'wood', 'concrete', 'tiled', 'concrete', 'soft_pvc', 'concrete', 'carpet', 'wood', 'fine_concrete', 'soft_pvc', 'tiled', 'hard_tiles_large_space', 'concrete', 'tiled', 'fine_concrete', 'concrete', 'wood', 'soft_pvc', 'hard_tiles_large_space', 'fine_concrete', 'fine_concrete', 'wood', 'tiled', 'soft_pvc', 'tiled', 'tiled', 'concrete', 'wood', 'soft_pvc', 'concrete', 'fine_concrete', 'wood', 'wood', 'tiled', 'wood', 'concrete', 'fine_concrete', 'soft_pvc', 'wood', 'concrete', 'carpet', 'wood', 'soft_pvc', 'wood', 'soft_pvc', 'tiled', 'wood', 'tiled', 'concrete', 'wood', 'concrete', 'fine_concrete', 'concrete', 'wood', 'soft_pvc', 'wood', 'concrete', 'tiled', 'fine_concrete', 'wood', 'fine_concrete', 'hard_tiles_large_space', 'wood', 'fine_concrete', 'fine_concrete', 'tiled', 'tiled', 'tiled', 'tiled', 'soft_pvc', 'tiled', 'fine_concrete', 'wood', 'fine_concrete', 'fine_concrete', 'wood', 'hard_tiles_large_space', 'soft_pvc', 'tiled', 'soft_pvc', 'wood', 'concrete', 'wood', 'soft_pvc', 'hard_tiles_large_space', 'concrete', 'soft_pvc', 'wood', 'concrete', 'fine_concrete', 'tiled', 'hard_tiles_large_space', 'tiled', 'soft_pvc', 'concrete', 'tiled', 'soft_pvc', 'wood', 'tiled', 'concrete', 'soft_pvc', 'wood', 'fine_concrete', 'concrete', 'soft_pvc', 'fine_concrete', 'tiled', 'wood', 'wood', 'wood', 'wood', 'concrete', 'tiled', 'concrete', 'concrete', 'fine_concrete', 'fine_concrete', 'wood', 'hard_tiles_large_space', 'wood', 'soft_pvc', 'fine_concrete', 'concrete', 'fine_concrete', 'wood', 'wood', 'fine_concrete', 'soft_pvc', 'wood', 'wood', 'wood', 'concrete', 'carpet', 'wood', 'wood', 'tiled', 'tiled', 'wood', 'wood', 'soft_pvc', 'tiled', 'fine_concrete', 'tiled', 'soft_pvc', 'tiled', 'fine_concrete', 'wood', 'concrete', 'concrete', 'wood', 'concrete', 'fine_concrete', 'soft_pvc', 'hard_tiles_large_space', 'tiled', 'tiled', 'wood', 'concrete', 'wood', 'wood', 'soft_pvc', 'hard_tiles_large_space', 'wood', 'wood', 'fine_concrete', 'concrete', 'wood', 'hard_tiles_large_space', 'soft_pvc', 'wood', 'tiled', 'concrete', 'wood', 'wood', 'concrete', 'wood', 'soft_pvc', 'wood', 'hard_tiles_large_space', 'tiled', 'concrete', 'wood', 'wood', 'soft_pvc', 'concrete', 'wood', 'fine_concrete', 'fine_concrete', 'soft_pvc', 'concrete', 'fine_concrete', 'hard_tiles_large_space', 'concrete', 'soft_pvc', 'hard_tiles_large_space', 'concrete', 'fine_concrete', 'concrete', 'concrete', 'hard_tiles_large_space', 'fine_concrete', 'hard_tiles_large_space', 'concrete', 'concrete', 'hard_tiles_large_space', 'tiled', 'wood', 'tiled', 'soft_pvc', 'soft_pvc', 'tiled', 'soft_pvc', 'concrete', 'tiled', 'soft_pvc', 'concrete', 'carpet', 'tiled', 'concrete', 'concrete', 'concrete', 'wood', 'wood', 'wood', 'hard_tiles_large_space', 'wood', 'wood', 'concrete', 'concrete', 'hard_tiles_large_space', 'fine_concrete', 'concrete', 'tiled', 'fine_concrete', 'fine_concrete', 'wood', 'fine_concrete', 'concrete', 'wood', 'soft_pvc', 'concrete', 'wood', 'fine_concrete', 'wood', 'wood', 'fine_concrete', 'concrete', 'soft_pvc', 'tiled', 'concrete', 'fine_concrete', 'wood', 'concrete', 'wood', 'wood', 'hard_tiles_large_space', 'tiled', 'tiled', 'fine_concrete', 'wood', 'concrete', 'concrete', 'fine_concrete', 'tiled', 'tiled', 'tiled', 'concrete', 'soft_pvc', 'concrete', 'tiled', 'hard_tiles_large_space', 'concrete', 'concrete', 'concrete', 'soft_pvc', 'wood', 'wood', 'hard_tiles_large_space', 'hard_tiles_large_space', 'fine_concrete', 'concrete', 'tiled', 'wood', 'concrete', 'concrete', 'wood', 'soft_pvc', 'soft_pvc', 'wood', 'fine_concrete', 'soft_pvc', 'fine_concrete', 'hard_tiles_large_space', 'concrete', 'tiled', 'wood', 'concrete', 'concrete', 'soft_pvc', 'carpet', 'tiled', 'soft_pvc', 'concrete', 'wood', 'concrete', 'wood', 'tiled', 'concrete', 'wood', 'concrete', 'concrete', 'concrete', 'wood', 'fine_concrete', 'concrete', 'fine_concrete', 'hard_tiles_large_space', 'soft_pvc', 'wood', 'soft_pvc', 'soft_pvc', 'tiled', 'wood', 'tiled', 'soft_pvc', 'tiled', 'concrete', 'concrete', 'hard_tiles_large_space', 'wood', 'fine_concrete', 'concrete', 'concrete', 'concrete', 'wood', 'concrete', 'concrete', 'wood', 'concrete', 'fine_concrete', 'wood', 'wood', 'tiled', 'concrete', 'wood', 'concrete', 'wood', 'hard_tiles_large_space', 'soft_pvc', 'tiled', 'wood', 'hard_tiles_large_space', 'concrete', 'wood', 'fine_concrete', 'concrete', 'wood', 'wood', 'hard_tiles_large_space', 'soft_pvc', 'tiled', 'wood', 'soft_pvc', 'soft_pvc', 'wood', 'concrete', 'wood', 'tiled', 'soft_pvc', 'concrete', 'fine_concrete', 'tiled', 'soft_pvc', 'hard_tiles_large_space', 'hard_tiles_large_space', 'concrete', 'fine_concrete', 'wood', 'tiled', 'concrete', 'wood', 'fine_concrete', 'wood', 'concrete', 'tiled', 'concrete', 'concrete', 'tiled', 'soft_pvc', 'soft_pvc', 'soft_pvc', 'concrete', 'fine_concrete', 'soft_pvc', 'concrete', 'wood', 'concrete', 'hard_tiles_large_space', 'fine_concrete', 'tiled', 'hard_tiles_large_space', 'concrete', 'wood', 'concrete', 'wood', 'tiled', 'wood', 'concrete', 'soft_pvc', 'concrete', 'tiled', 'tiled', 'tiled', 'concrete', 'concrete', 'soft_pvc', 'carpet', 'hard_tiles_large_space', 'fine_concrete', 'soft_pvc', 'soft_pvc', 'tiled', 'soft_pvc', 'wood', 'soft_pvc', 'fine_concrete', 'fine_concrete', 'carpet', 'wood', 'tiled', 'fine_concrete', 'wood', 'tiled', 'fine_concrete', 'carpet', 'soft_pvc', 'concrete', 'hard_tiles_large_space', 'soft_pvc', 'concrete', 'hard_tiles_large_space', 'concrete', 'carpet', 'carpet', 'tiled', 'concrete', 'wood', 'hard_tiles_large_space', 'fine_concrete', 'tiled', 'concrete', 'concrete', 'tiled', 'wood', 'carpet', 'hard_tiles_large_space', 'soft_pvc', 'soft_pvc', 'soft_pvc', 'tiled', 'concrete', 'concrete', 'concrete', 'soft_pvc', 'hard_tiles_large_space', 'wood', 'wood', 'soft_pvc', 'hard_tiles_large_space', 'carpet', 'tiled', 'tiled', 'concrete', 'concrete', 'soft_pvc', 'concrete', 'wood', 'tiled', 'soft_pvc', 'wood', 'wood', 'concrete', 'soft_pvc', 'tiled', 'soft_pvc', 'concrete', 'concrete', 'concrete', 'fine_concrete', 'carpet', 'concrete', 'soft_pvc', 'soft_pvc', 'concrete', 'fine_concrete', 'wood', 'tiled', 'hard_tiles_large_space', 'wood', 'tiled', 'tiled', 'tiled', 'soft_pvc', 'wood', 'fine_concrete', 'tiled', 'wood', 'fine_concrete', 'soft_pvc', 'tiled', 'tiled', 'hard_tiles_large_space', 'concrete', 'tiled', 'hard_tiles_large_space', 'wood', 'concrete', 'fine_concrete', 'concrete', 'wood', 'wood', 'tiled', 'carpet', 'hard_tiles_large_space', 'tiled', 'hard_tiles_large_space', 'concrete', 'soft_pvc', 'concrete', 'concrete', 'soft_pvc', 'tiled', 'tiled', 'concrete', 'concrete', 'fine_concrete', 'tiled', 'soft_pvc', 'tiled', 'concrete', 'fine_concrete', 'soft_pvc', 'soft_pvc', 'fine_concrete', 'wood', 'hard_tiles_large_space', 'fine_concrete', 'carpet', 'wood', 'tiled', 'concrete', 'fine_concrete', 'hard_tiles_large_space', 'wood', 'wood', 'concrete', 'tiled', 'tiled', 'hard_tiles_large_space', 'concrete', 'concrete', 'tiled', 'fine_concrete', 'tiled', 'concrete', 'wood', 'concrete', 'concrete', 'concrete', 'carpet', 'hard_tiles_large_space', 'fine_concrete', 'wood', 'tiled', 'soft_pvc', 'wood', 'wood', 'tiled', 'soft_pvc', 'concrete', 'fine_concrete', 'tiled', 'hard_tiles_large_space', 'wood', 'fine_concrete', 'wood', 'hard_tiles_large_space', 'tiled', 'tiled', 'fine_concrete', 'soft_pvc', 'tiled', 'concrete', 'tiled', 'tiled', 'hard_tiles_large_space', 'fine_concrete', 'wood', 'wood', 'soft_pvc', 'wood', 'soft_pvc', 'tiled', 'wood', 'fine_concrete', 'concrete', 'hard_tiles_large_space', 'wood', 'tiled', 'hard_tiles_large_space', 'concrete', 'concrete', 'fine_concrete', 'hard_tiles_large_space', 'tiled', 'tiled', 'tiled', 'hard_tiles_large_space', 'concrete', 'wood', 'concrete', 'tiled', 'soft_pvc', 'hard_tiles_large_space', 'concrete', 'fine_concrete', 'concrete', 'concrete', 'concrete', 'soft_pvc', 'soft_pvc', 'wood', 'carpet', 'tiled', 'fine_concrete', 'concrete', 'concrete', 'soft_pvc', 'tiled', 'soft_pvc', 'concrete', 'concrete', 'carpet', 'concrete', 'soft_pvc', 'concrete', 'carpet', 'wood', 'concrete', 'soft_pvc', 'tiled', 'soft_pvc', 'fine_concrete', 'wood', 'concrete', 'hard_tiles_large_space', 'hard_tiles_large_space', 'tiled', 'soft_pvc', 'concrete', 'concrete', 'concrete', 'concrete', 'concrete', 'concrete', 'soft_pvc', 'wood', 'wood', 'soft_pvc', 'wood', 'wood', 'soft_pvc', 'wood', 'tiled', 'tiled', 'soft_pvc', 'carpet', 'concrete', 'soft_pvc', 'concrete', 'wood', 'soft_pvc', 'concrete', 'wood', 'concrete', 'fine_concrete', 'soft_pvc', 'concrete', 'concrete', 'concrete', 'concrete', 'concrete', 'wood', 'soft_pvc', 'carpet', 'soft_pvc', 'wood', 'soft_pvc', 'concrete', 'tiled', 'soft_pvc', 'concrete', 'tiled', 'concrete', 'hard_tiles_large_space', 'fine_concrete', 'soft_pvc', 'soft_pvc', 'fine_concrete', 'hard_tiles_large_space', 'tiled', 'concrete', 'wood', 'fine_concrete', 'tiled', 'concrete', 'soft_pvc', 'concrete', 'wood', 'concrete', 'soft_pvc', 'wood', 'wood', 'wood', 'wood', 'wood', 'wood', 'concrete', 'concrete', 'hard_tiles_large_space', 'concrete', 'tiled', 'fine_concrete', 'concrete', 'wood', 'concrete', 'soft_pvc', 'concrete', 'hard_tiles_large_space', 'soft_pvc', 'wood', 'wood', 'soft_pvc', 'soft_pvc', 'concrete', 'tiled', 'wood', 'fine_concrete', 'wood', 'soft_pvc', 'hard_tiles_large_space', 'concrete', 'tiled', 'soft_pvc', 'concrete', 'soft_pvc', 'concrete', 'tiled', 'tiled', 'concrete', 'concrete', 'wood', 'tiled', 'wood', 'soft_pvc', 'concrete', 'soft_pvc', 'wood', 'soft_pvc', 'tiled', 'tiled', 'soft_pvc', 'concrete', 'concrete', 'soft_pvc', 'fine_concrete', 'fine_concrete', 'tiled', 'concrete', 'soft_pvc', 'concrete', 'tiled', 'wood', 'concrete', 'wood', 'soft_pvc', 'soft_pvc', 'wood', 'fine_concrete', 'wood', 'concrete', 'wood', 'concrete', 'wood', 'wood', 'concrete', 'wood', 'fine_concrete', 'hard_tiles_large_space', 'hard_tiles_large_space', 'tiled', 'hard_tiles_large_space', 'tiled', 'concrete', 'fine_concrete', 'concrete', 'soft_pvc', 'fine_concrete', 'wood', 'tiled', 'concrete', 'soft_pvc', 'concrete', 'soft_pvc', 'wood', 'hard_tiles_large_space', 'soft_pvc', 'concrete', 'wood', 'concrete', 'wood', 'wood', 'fine_concrete', 'soft_pvc', 'hard_tiles_large_space', 'hard_tiles_large_space', 'tiled', 'soft_pvc', 'hard_tiles_large_space', 'tiled', 'concrete', 'wood', 'hard_tiles_large_space', 'hard_tiles_large_space', 'fine_concrete', 'soft_pvc', 'wood', 'concrete', 'fine_concrete', 'carpet', 'hard_tiles_large_space', 'fine_concrete', 'hard_tiles_large_space', 'fine_concrete', 'tiled', 'hard_tiles_large_space', 'hard_tiles_large_space', 'wood', 'wood', 'tiled', 'soft_pvc', 'soft_pvc', 'hard_tiles_large_space', 'soft_pvc', 'carpet', 'soft_pvc', 'wood', 'tiled', 'wood', 'concrete', 'soft_pvc', 'tiled', 'concrete', 'concrete', 'wood', 'wood', 'wood', 'wood', 'fine_concrete', 'soft_pvc', 'hard_tiles_large_space', 'fine_concrete', 'concrete', 'tiled', 'wood', 'soft_pvc', 'tiled', 'hard_tiles_large_space', 'wood', 'soft_pvc', 'wood', 'wood', 'soft_pvc', 'tiled', 'tiled', 'wood', 'soft_pvc', 'wood', 'soft_pvc', 'carpet', 'soft_pvc', 'wood', 'wood', 'hard_tiles_large_space', 'fine_concrete', 'concrete', 'wood', 'wood', 'concrete', 'fine_concrete', 'hard_tiles_large_space', 'concrete', 'soft_pvc', 'concrete', 'fine_concrete', 'wood', 'concrete', 'carpet', 'soft_pvc', 'soft_pvc', 'hard_tiles_large_space', 'concrete', 'tiled', 'concrete', 'fine_concrete', 'soft_pvc', 'soft_pvc', 'concrete', 'soft_pvc', 'tiled', 'wood', 'tiled', 'hard_tiles_large_space', 'tiled', 'concrete', 'fine_concrete', 'fine_concrete', 'hard_tiles_large_space', 'hard_tiles_large_space', 'soft_pvc', 'soft_pvc', 'soft_pvc', 'soft_pvc', 'hard_tiles_large_space', 'wood', 'tiled', 'fine_concrete', 'hard_tiles_large_space', 'soft_pvc', 'carpet', 'soft_pvc', 'hard_tiles_large_space', 'wood', 'tiled', 'soft_pvc', 'soft_pvc', 'hard_tiles_large_space', 'wood', 'hard_tiles_large_space', 'wood', 'wood', 'fine_concrete', 'concrete', 'concrete', 'soft_pvc', 'soft_pvc', 'concrete', 'concrete', 'hard_tiles_large_space', 'tiled', 'wood', 'concrete', 'soft_pvc', 'soft_pvc', 'concrete', 'fine_concrete', 'concrete', 'concrete', 'carpet', 'tiled', 'tiled', 'concrete', 'hard_tiles_large_space', 'wood', 'concrete', 'tiled', 'fine_concrete', 'fine_concrete', 'concrete', 'fine_concrete', 'soft_pvc', 'fine_concrete', 'wood', 'fine_concrete', 'concrete', 'soft_pvc', 'wood', 'concrete', 'soft_pvc', 'fine_concrete', 'tiled', 'soft_pvc', 'hard_tiles_large_space', 'concrete', 'tiled', 'soft_pvc', 'concrete', 'fine_concrete', 'wood', 'tiled', 'carpet', 'wood', 'concrete', 'fine_concrete', 'concrete', 'hard_tiles_large_space', 'soft_pvc', 'soft_pvc', 'hard_tiles_large_space', 'fine_concrete', 'tiled', 'carpet', 'fine_concrete', 'tiled', 'concrete', 'soft_pvc', 'tiled', 'wood', 'tiled', 'wood', 'fine_concrete', 'fine_concrete', 'hard_tiles_large_space', 'wood', 'concrete', 'wood', 'wood', 'hard_tiles_large_space', 'concrete', 'tiled', 'concrete', 'concrete', 'concrete', 'fine_concrete', 'hard_tiles_large_space', 'tiled', 'wood', 'wood', 'concrete', 'carpet', 'tiled', 'tiled', 'tiled', 'tiled', 'soft_pvc', 'concrete', 'concrete', 'wood', 'soft_pvc', 'concrete', 'tiled', 'hard_tiles_large_space', 'tiled', 'soft_pvc', 'wood', 'soft_pvc', 'fine_concrete', 'wood', 'wood', 'wood', 'soft_pvc', 'wood', 'wood', 'concrete', 'wood', 'concrete', 'wood', 'concrete', 'hard_tiles_large_space', 'fine_concrete', 'soft_pvc', 'concrete', 'wood', 'concrete', 'concrete', 'carpet', 'soft_pvc', 'soft_pvc', 'concrete', 'concrete', 'soft_pvc', 'wood', 'tiled', 'carpet', 'wood', 'tiled', 'soft_pvc', 'soft_pvc', 'fine_concrete', 'tiled', 'concrete', 'wood', 'concrete', 'tiled', 'fine_concrete', 'tiled', 'soft_pvc', 'concrete', 'wood', 'concrete', 'concrete', 'soft_pvc', 'concrete', 'wood', 'tiled', 'hard_tiles_large_space', 'wood', 'concrete', 'tiled', 'hard_tiles_large_space', 'concrete', 'concrete', 'wood', 'soft_pvc', 'wood', 'concrete', 'soft_pvc', 'tiled', 'wood', 'wood', 'concrete', 'wood', 'wood', 'wood', 'tiled', 'soft_pvc', 'soft_pvc', 'soft_pvc', 'fine_concrete', 'fine_concrete', 'fine_concrete', 'concrete', 'wood', 'tiled', 'carpet', 'concrete', 'concrete', 'concrete', 'concrete', 'wood', 'concrete', 'hard_tiles_large_space', 'soft_pvc', 'wood', 'fine_concrete', 'fine_concrete', 'concrete', 'hard_tiles_large_space', 'concrete', 'concrete', 'carpet', 'concrete', 'fine_concrete', 'wood', 'tiled', 'hard_tiles_large_space', 'concrete', 'hard_tiles_large_space', 'tiled', 'tiled', 'soft_pvc', 'carpet', 'fine_concrete', 'wood', 'concrete', 'fine_concrete', 'tiled', 'wood', 'concrete', 'soft_pvc', 'hard_tiles_large_space', 'tiled', 'soft_pvc', 'concrete', 'concrete', 'concrete', 'concrete', 'concrete', 'wood', 'soft_pvc', 'concrete', 'concrete', 'tiled', 'soft_pvc', 'tiled', 'wood', 'wood', 'wood', 'concrete', 'hard_tiles_large_space', 'soft_pvc', 'concrete', 'concrete', 'hard_tiles_large_space', 'soft_pvc', 'tiled', 'soft_pvc', 'concrete', 'fine_concrete', 'tiled', 'wood', 'hard_tiles_large_space', 'tiled', 'tiled', 'tiled', 'wood', 'tiled', 'concrete', 'tiled', 'concrete', 'concrete', 'concrete', 'wood', 'wood', 'soft_pvc', 'wood', 'concrete', 'concrete', 'concrete', 'hard_tiles_large_space', 'carpet', 'soft_pvc', 'wood', 'soft_pvc', 'wood', 'wood', 'soft_pvc', 'wood', 'wood', 'tiled', 'soft_pvc', 'tiled', 'wood', 'soft_pvc', 'fine_concrete', 'fine_concrete', 'tiled', 'tiled', 'fine_concrete', 'wood', 'tiled', 'soft_pvc', 'concrete', 'wood', 'concrete', 'concrete', 'wood', 'soft_pvc', 'hard_tiles_large_space', 'tiled', 'fine_concrete', 'concrete', 'hard_tiles_large_space', 'soft_pvc', 'concrete', 'wood', 'concrete', 'fine_concrete', 'fine_concrete', 'fine_concrete', 'concrete', 'concrete', 'soft_pvc', 'tiled', 'tiled', 'fine_concrete', 'wood', 'fine_concrete', 'concrete', 'concrete', 'concrete', 'hard_tiles_large_space', 'tiled', 'hard_tiles_large_space', 'concrete', 'carpet', 'tiled', 'wood', 'soft_pvc', 'wood', 'concrete', 'wood', 'soft_pvc', 'tiled', 'wood', 'soft_pvc', 'tiled', 'fine_concrete', 'soft_pvc', 'tiled', 'concrete', 'fine_concrete', 'wood', 'hard_tiles_large_space', 'wood', 'soft_pvc', 'tiled', 'concrete', 'tiled', 'tiled', 'hard_tiles_large_space', 'wood', 'carpet', 'wood', 'hard_tiles_large_space', 'tiled', 'soft_pvc', 'concrete', 'tiled', 'fine_concrete', 'concrete', 'carpet', 'wood', 'tiled', 'fine_concrete', 'soft_pvc', 'soft_pvc', 'tiled', 'fine_concrete', 'tiled', 'concrete', 'wood', 'fine_concrete', 'hard_tiles_large_space', 'soft_pvc', 'hard_tiles_large_space', 'concrete', 'soft_pvc', 'tiled', 'concrete', 'hard_tiles_large_space', 'wood', 'concrete', 'concrete', 'wood', 'wood', 'concrete', 'wood', 'fine_concrete', 'hard_tiles_large_space', 'fine_concrete', 'tiled', 'wood', 'soft_pvc', 'soft_pvc', 'concrete', 'fine_concrete', 'hard_tiles_large_space', 'wood', 'concrete', 'tiled', 'soft_pvc', 'hard_tiles_large_space', 'soft_pvc', 'soft_pvc', 'tiled', 'fine_concrete', 'wood', 'wood', 'fine_concrete', 'concrete', 'soft_pvc', 'concrete', 'soft_pvc', 'wood', 'carpet', 'soft_pvc', 'hard_tiles_large_space', 'concrete', 'fine_concrete', 'wood', 'carpet', 'soft_pvc', 'concrete', 'concrete', 'soft_pvc', 'soft_pvc', 'concrete', 'fine_concrete', 'fine_concrete', 'soft_pvc', 'concrete', 'hard_tiles_large_space', 'concrete', 'concrete', 'carpet', 'concrete', 'concrete', 'soft_pvc', 'fine_concrete', 'wood', 'concrete', 'wood', 'fine_concrete', 'hard_tiles_large_space', 'hard_tiles_large_space', 'wood', 'soft_pvc', 'tiled', 'concrete', 'concrete', 'soft_pvc', 'wood', 'carpet', 'wood', 'wood', 'concrete', 'hard_tiles_large_space', 'tiled', 'concrete', 'concrete', 'concrete', 'soft_pvc', 'wood', 'tiled', 'concrete', 'concrete', 'tiled', 'concrete', 'carpet', 'concrete', 'wood', 'tiled', 'wood', 'fine_concrete', 'soft_pvc', 'hard_tiles_large_space', 'soft_pvc', 'tiled', 'concrete', 'hard_tiles_large_space', 'wood', 'concrete', 'fine_concrete', 'fine_concrete', 'wood', 'tiled', 'tiled', 'tiled', 'hard_tiles_large_space', 'soft_pvc', 'fine_concrete', 'wood', 'fine_concrete', 'soft_pvc', 'soft_pvc', 'wood', 'concrete', 'tiled', 'tiled', 'wood', 'soft_pvc', 'concrete', 'hard_tiles_large_space', 'tiled', 'wood', 'concrete', 'concrete', 'tiled', 'hard_tiles_large_space', 'tiled', 'fine_concrete', 'concrete', 'tiled', 'tiled', 'hard_tiles_large_space', 'tiled', 'tiled', 'fine_concrete', 'fine_concrete', 'tiled', 'concrete', 'tiled', 'wood', 'soft_pvc', 'tiled', 'concrete', 'wood', 'wood', 'fine_concrete', 'concrete', 'fine_concrete', 'concrete', 'wood', 'hard_tiles_large_space', 'hard_tiles_large_space', 'soft_pvc', 'soft_pvc', 'fine_concrete', 'concrete', 'soft_pvc', 'hard_tiles_large_space', 'soft_pvc', 'concrete', 'soft_pvc', 'concrete', 'concrete', 'hard_tiles_large_space', 'concrete', 'concrete', 'concrete', 'tiled', 'carpet', 'wood', 'soft_pvc', 'wood', 'fine_concrete', 'fine_concrete', 'tiled', 'wood', 'tiled', 'fine_concrete', 'hard_tiles_large_space', 'carpet', 'concrete', 'concrete', 'fine_concrete', 'concrete', 'hard_tiles_large_space', 'tiled', 'hard_tiles_large_space', 'wood', 'fine_concrete', 'soft_pvc', 'hard_tiles_large_space', 'soft_pvc', 'soft_pvc', 'tiled', 'hard_tiles_large_space', 'hard_tiles_large_space', 'hard_tiles_large_space', 'tiled', 'wood', 'concrete', 'tiled', 'soft_pvc', 'soft_pvc', 'soft_pvc', 'concrete', 'wood', 'tiled', 'wood', 'concrete', 'wood', 'soft_pvc', 'tiled', 'wood', 'concrete', 'soft_pvc', 'soft_pvc', 'carpet', 'concrete', 'hard_tiles_large_space', 'hard_tiles_large_space', 'soft_pvc', 'soft_pvc', 'concrete', 'fine_concrete', 'hard_tiles_large_space', 'wood', 'concrete', 'wood', 'wood', 'tiled', 'wood', 'concrete', 'wood', 'hard_tiles_large_space', 'carpet', 'tiled', 'tiled', 'concrete', 'tiled', 'carpet', 'fine_concrete', 'hard_tiles_large_space', 'hard_tiles_large_space', 'wood', 'wood', 'tiled', 'tiled', 'tiled', 'concrete', 'soft_pvc', 'soft_pvc', 'concrete', 'concrete', 'tiled', 'wood', 'concrete', 'concrete', 'soft_pvc', 'concrete', 'concrete', 'soft_pvc', 'concrete', 'concrete', 'hard_tiles_large_space', 'wood', 'carpet', 'hard_tiles_large_space', 'hard_tiles_large_space', 'hard_tiles_large_space', 'hard_tiles_large_space', 'soft_pvc', 'soft_pvc', 'wood', 'carpet', 'soft_pvc', 'wood', 'soft_pvc', 'wood', 'soft_pvc', 'wood', 'carpet', 'concrete', 'tiled', 'concrete', 'concrete', 'wood', 'hard_tiles_large_space', 'tiled', 'wood', 'wood', 'concrete', 'concrete', 'soft_pvc', 'wood', 'tiled', 'wood', 'fine_concrete', 'wood', 'fine_concrete', 'concrete', 'concrete', 'fine_concrete', 'tiled', 'soft_pvc', 'concrete', 'concrete', 'tiled', 'concrete', 'soft_pvc', 'concrete', 'tiled', 'wood', 'tiled', 'wood', 'fine_concrete', 'concrete', 'wood', 'wood', 'tiled', 'tiled', 'soft_pvc', 'wood', 'concrete', 'concrete', 'concrete', 'tiled', 'concrete', 'hard_tiles_large_space', 'tiled', 'fine_concrete', 'fine_concrete', 'soft_pvc', 'carpet', 'tiled', 'wood', 'wood', 'soft_pvc', 'soft_pvc', 'fine_concrete', 'wood', 'carpet', 'tiled', 'wood', 'soft_pvc', 'fine_concrete', 'concrete', 'tiled', 'tiled', 'fine_concrete', 'soft_pvc', 'soft_pvc', 'concrete', 'fine_concrete', 'soft_pvc', 'soft_pvc', 'concrete', 'carpet', 'concrete', 'fine_concrete', 'wood', 'concrete', 'wood', 'soft_pvc', 'soft_pvc', 'soft_pvc', 'fine_concrete', 'wood', 'soft_pvc', 'fine_concrete', 'tiled', 'fine_concrete', 'concrete', 'concrete', 'wood', 'carpet', 'concrete', 'wood', 'soft_pvc', 'soft_pvc', 'wood', 'soft_pvc', 'wood', 'concrete', 'tiled', 'tiled', 'concrete', 'hard_tiles_large_space', 'concrete', 'hard_tiles_large_space', 'wood', 'tiled', 'soft_pvc', 'wood', 'fine_concrete', 'tiled', 'concrete', 'concrete', 'tiled', 'concrete', 'soft_pvc', 'wood', 'wood', 'fine_concrete', 'concrete', 'hard_tiles_large_space', 'fine_concrete', 'wood', 'concrete', 'fine_concrete', 'concrete', 'carpet', 'concrete', 'concrete', 'tiled', 'fine_concrete', 'hard_tiles_large_space', 'carpet', 'hard_tiles_large_space', 'tiled', 'hard_tiles_large_space', 'concrete', 'tiled', 'concrete', 'hard_tiles_large_space', 'fine_concrete', 'fine_concrete', 'tiled', 'wood', 'fine_concrete', 'concrete', 'soft_pvc', 'wood', 'hard_tiles_large_space', 'concrete', 'soft_pvc', 'tiled', 'hard_tiles_large_space', 'concrete', 'wood', 'fine_concrete', 'concrete', 'tiled', 'fine_concrete', 'hard_tiles_large_space', 'tiled', 'wood', 'tiled', 'tiled', 'wood', 'fine_concrete', 'tiled', 'soft_pvc']\n"
          ],
          "name": "stdout"
        }
      ]
    },
    {
      "metadata": {
        "colab_type": "code",
        "id": "zgcMU8U5iRD4",
        "colab": {}
      },
      "cell_type": "code",
      "source": [
        "from sklearn.preprocessing import LabelEncoder\n",
        "enc=LabelEncoder()\n",
        "enc.fit(resp_vec)\n",
        "encoded_y=enc.transform(resp_vec)"
      ],
      "execution_count": 0,
      "outputs": []
    },
    {
      "metadata": {
        "id": "NcEDvZugUFYb",
        "colab_type": "code",
        "colab": {}
      },
      "cell_type": "code",
      "source": [
        "from keras.utils import np_utils\n",
        "encoded_y\n",
        "dummy_y = np_utils.to_categorical(encoded_y)"
      ],
      "execution_count": 0,
      "outputs": []
    },
    {
      "metadata": {
        "id": "OY1JAxQuUaa5",
        "colab_type": "code",
        "outputId": "1087a91c-ecec-4537-a137-d11b92573749",
        "colab": {
          "base_uri": "https://localhost:8080/",
          "height": 34
        }
      },
      "cell_type": "code",
      "source": [
        "len(x_train[0])"
      ],
      "execution_count": 0,
      "outputs": [
        {
          "output_type": "execute_result",
          "data": {
            "text/plain": [
              "128"
            ]
          },
          "metadata": {
            "tags": []
          },
          "execution_count": 73
        }
      ]
    },
    {
      "metadata": {
        "id": "MbgHamxJk3Rp",
        "colab_type": "code",
        "colab": {}
      },
      "cell_type": "code",
      "source": [
        "target=dummy_y"
      ],
      "execution_count": 0,
      "outputs": []
    },
    {
      "metadata": {
        "id": "mdxYUoyC35aA",
        "colab_type": "code",
        "colab": {}
      },
      "cell_type": "code",
      "source": [
        "model = keras.models.Sequential()\n",
        "model.add(keras.layers.LSTM(units=32,input_shape=(128,55),activation=\"relu\",recurrent_dropout=0.3,dropout=0.2))\n",
        "model.add(keras.layers.LSTM(64,input_shape=(3810,128,55),activation=\"relu\"))\n",
        "model.add(keras.layers.Dense(units=390,activation=\"relu\"))\n",
        "\n",
        "model.add(keras.layers.Dense(units=240,activation=\"relu\"))\n",
        "model.add(keras.layers.BatchNormalization())\n",
        "model.add(keras.layers.Dense(units=9,activation=\"softmax\"))"
      ],
      "execution_count": 0,
      "outputs": []
    },
    {
      "metadata": {
        "id": "bYlD7Ex8Ujv6",
        "colab_type": "code",
        "outputId": "c15f1ac2-cf15-40a3-f830-dcbc2421bc1c",
        "colab": {
          "base_uri": "https://localhost:8080/",
          "height": 34
        }
      },
      "cell_type": "code",
      "source": [
        "model.compile(loss='categorical_crossentropy', optimizer='rmsprop', metrics=['accuracy'])\n",
        "model"
      ],
      "execution_count": 0,
      "outputs": [
        {
          "output_type": "execute_result",
          "data": {
            "text/plain": [
              "<keras.engine.sequential.Sequential at 0x7f9c288992b0>"
            ]
          },
          "metadata": {
            "tags": []
          },
          "execution_count": 87
        }
      ]
    },
    {
      "metadata": {
        "id": "9a5tchw5U3-f",
        "colab_type": "code",
        "colab": {}
      },
      "cell_type": "code",
      "source": [
        "model.fit(x_train,dummy_y,epochs=50,validation_split=0.2)"
      ],
      "execution_count": 0,
      "outputs": []
    }
  ]
}